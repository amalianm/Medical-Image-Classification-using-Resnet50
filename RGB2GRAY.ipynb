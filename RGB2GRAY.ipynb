{
  "cells": [
    {
      "cell_type": "code",
      "execution_count": null,
      "metadata": {
        "colab": {
          "base_uri": "https://localhost:8080/"
        },
        "id": "nPCIx0yagLdh",
        "outputId": "5b3cd60e-a008-4145-b4e5-54f8ebd19fa5"
      },
      "outputs": [
        {
          "output_type": "stream",
          "name": "stdout",
          "text": [
            "Mounted at /content/gdrive\n"
          ]
        }
      ],
      "source": [
        "from google.colab import drive\n",
        "drive.mount('/content/gdrive')"
      ]
    },
    {
      "cell_type": "code",
      "execution_count": null,
      "metadata": {
        "colab": {
          "base_uri": "https://localhost:8080/"
        },
        "id": "AfHjdspygNgI",
        "outputId": "e98ed769-b90a-4df9-f1f3-b2bb1e454767"
      },
      "outputs": [
        {
          "output_type": "stream",
          "name": "stdout",
          "text": [
            "/content/gdrive/My Drive/TugasSBC1\n"
          ]
        }
      ],
      "source": [
        "cd '/content/gdrive/My Drive/TugasSBC1'"
      ]
    },
    {
      "cell_type": "code",
      "execution_count": null,
      "metadata": {
        "colab": {
          "base_uri": "https://localhost:8080/"
        },
        "id": "yRiF2dMYgPWg",
        "outputId": "67a27ead-cada-4deb-c2b8-1e6c3f8a3a93"
      },
      "outputs": [
        {
          "output_type": "stream",
          "name": "stdout",
          "text": [
            " confusion_matrix.png   histogram.png   model.png  \u001b[0m\u001b[01;34m'resnet 50'\u001b[0m/\n"
          ]
        }
      ],
      "source": [
        "ls"
      ]
    },
    {
      "cell_type": "code",
      "execution_count": null,
      "metadata": {
        "id": "DB2DNpCvgGGl"
      },
      "outputs": [],
      "source": [
        "import cv2\n",
        "import numpy\n",
        "import os\n",
        "import matplotlib.pyplot as plt"
      ]
    },
    {
      "cell_type": "code",
      "execution_count": null,
      "metadata": {
        "colab": {
          "base_uri": "https://localhost:8080/",
          "height": 228
        },
        "id": "pr0LHnA3e7YR",
        "outputId": "d7be3385-abfa-4d5d-e414-381ee2205d2d"
      },
      "outputs": [
        {
          "ename": "KeyboardInterrupt",
          "evalue": "",
          "output_type": "error",
          "traceback": [
            "\u001b[0;31m---------------------------------------------------------------------------\u001b[0m",
            "\u001b[0;31mKeyboardInterrupt\u001b[0m                         Traceback (most recent call last)",
            "\u001b[0;32m<ipython-input-6-f852f7d227af>\u001b[0m in \u001b[0;36m<cell line: 4>\u001b[0;34m()\u001b[0m\n\u001b[1;32m     11\u001b[0m     \u001b[0mfile_extension\u001b[0m \u001b[0;34m=\u001b[0m \u001b[0mos\u001b[0m\u001b[0;34m.\u001b[0m\u001b[0mpath\u001b[0m\u001b[0;34m.\u001b[0m\u001b[0msplitext\u001b[0m\u001b[0;34m(\u001b[0m\u001b[0mfilename\u001b[0m\u001b[0;34m)\u001b[0m\u001b[0;34m[\u001b[0m\u001b[0;36m1\u001b[0m\u001b[0;34m]\u001b[0m\u001b[0;34m\u001b[0m\u001b[0;34m\u001b[0m\u001b[0m\n\u001b[1;32m     12\u001b[0m     \u001b[0msave_path\u001b[0m \u001b[0;34m=\u001b[0m \u001b[0mos\u001b[0m\u001b[0;34m.\u001b[0m\u001b[0mpath\u001b[0m\u001b[0;34m.\u001b[0m\u001b[0mjoin\u001b[0m\u001b[0;34m(\u001b[0m\u001b[0;34m'/content/gdrive/My Drive/TugasSBC1/resnet 50/periodontal_disease/train/normal/GRAY'\u001b[0m\u001b[0;34m,\u001b[0m \u001b[0mname_without_extension\u001b[0m \u001b[0;34m+\u001b[0m \u001b[0;34m'_grayscale'\u001b[0m \u001b[0;34m+\u001b[0m \u001b[0mfile_extension\u001b[0m\u001b[0;34m)\u001b[0m\u001b[0;34m\u001b[0m\u001b[0;34m\u001b[0m\u001b[0m\n\u001b[0;32m---> 13\u001b[0;31m     \u001b[0mcv2\u001b[0m\u001b[0;34m.\u001b[0m\u001b[0mimwrite\u001b[0m\u001b[0;34m(\u001b[0m\u001b[0msave_path\u001b[0m\u001b[0;34m,\u001b[0m \u001b[0mgray_normal_img\u001b[0m\u001b[0;34m)\u001b[0m\u001b[0;34m\u001b[0m\u001b[0;34m\u001b[0m\u001b[0m\n\u001b[0m\u001b[1;32m     14\u001b[0m \u001b[0;34m\u001b[0m\u001b[0m\n\u001b[1;32m     15\u001b[0m     \u001b[0mprint\u001b[0m\u001b[0;34m(\u001b[0m\u001b[0;34mf\"Gambar {filename} berhasil diubah menjadi skala abu-abu dan disimpan sebagai {name_without_extension}_grayscale.jpg\"\u001b[0m\u001b[0;34m)\u001b[0m\u001b[0;34m\u001b[0m\u001b[0;34m\u001b[0m\u001b[0m\n",
            "\u001b[0;31mKeyboardInterrupt\u001b[0m: "
          ]
        }
      ],
      "source": [
        "#normal train\n",
        "folder_normal_path = '/content/gdrive/My Drive/TugasSBC1/resnet 50/periodontal_disease/train/normal/RGB'\n",
        "file_normal_list = os.listdir(folder_normal_path)\n",
        "for filename in file_normal_list:\n",
        "  full_normal_path = os.path.join(folder_normal_path, filename)\n",
        "\n",
        "  img = cv2.imread(full_normal_path)\n",
        "  if img is not None:\n",
        "    gray_normal_img = cv2.cvtColor(img, cv2.COLOR_BGR2GRAY)\n",
        "    name_without_extension = os.path.splitext(filename)[0]\n",
        "    file_extension = os.path.splitext(filename)[1]\n",
        "    save_path = os.path.join('/content/gdrive/My Drive/TugasSBC1/resnet 50/periodontal_disease/train/normal/GRAY', name_without_extension + '_grayscale' + file_extension)\n",
        "    cv2.imwrite(save_path, gray_normal_img)\n",
        "\n",
        "    print(f\"Gambar {filename} berhasil diubah menjadi skala abu-abu dan disimpan sebagai {name_without_extension}_grayscale.jpg\")\n",
        "  else:\n",
        "    print(f\"Failed to read image: {filename}\")\n",
        "\n",
        "print(\"Proses konversi selesai.\")\n"
      ]
    },
    {
      "cell_type": "code",
      "execution_count": null,
      "metadata": {
        "id": "dPASXNk-m6qD"
      },
      "outputs": [],
      "source": [
        "#inflamasi train\n",
        "folder_inflammation_path = '/content/gdrive/My Drive/TugasSBC1/resnet 50/periodontal_disease/train/inflammation/RGB'\n",
        "file_inflammation_list = os.listdir(folder_inflammation_path)\n",
        "for filename in file_inflammation_list:\n",
        "  full_inflammation_path = os.path.join(folder_inflammation_path, filename)\n",
        "\n",
        "  img = cv2.imread(full_inflammation_path)\n",
        "  if img is not None:\n",
        "    gray_inflammation_img = cv2.cvtColor(img, cv2.COLOR_BGR2GRAY)\n",
        "    name_without_extension = os.path.splitext(filename)[0]\n",
        "    file_extension = os.path.splitext(filename)[1]\n",
        "    save_path = os.path.join('/content/gdrive/My Drive/TugasSBC1/resnet 50/periodontal_disease/train/inflammation/GRAY', name_without_extension + '_grayscale' + file_extension)\n",
        "    cv2.imwrite(save_path, gray_normal_img)\n",
        "\n",
        "    print(f\"Gambar {filename} berhasil diubah menjadi skala abu-abu dan disimpan sebagai {name_without_extension}_grayscale.jpg\")\n",
        "  else:\n",
        "    print(f\"Failed to read image: {filename}\")\n",
        "\n",
        "print(\"Proses konversi selesai.\")"
      ]
    },
    {
      "cell_type": "code",
      "source": [
        "#normal val\n",
        "folder_normal_path = '/content/gdrive/My Drive/TugasSBC1/resnet 50/periodontal_disease/val/normal/RGB'\n",
        "file_normal_list = os.listdir(folder_normal_path)\n",
        "for filename in file_normal_list:\n",
        "  full_normal_path = os.path.join(folder_normal_path, filename)\n",
        "\n",
        "  img = cv2.imread(full_normal_path)\n",
        "  if img is not None:\n",
        "    gray_normal_img = cv2.cvtColor(img, cv2.COLOR_BGR2GRAY)\n",
        "    name_without_extension = os.path.splitext(filename)[0]\n",
        "    file_extension = os.path.splitext(filename)[1]\n",
        "    save_path = os.path.join('/content/gdrive/My Drive/TugasSBC1/resnet 50/periodontal_disease/val/normal/GRAY', name_without_extension + '_grayscale' + file_extension)\n",
        "    cv2.imwrite(save_path, gray_normal_img)\n",
        "\n",
        "    print(f\"Gambar {filename} berhasil diubah menjadi skala abu-abu dan disimpan sebagai {name_without_extension}_grayscale.jpg\")\n",
        "  else:\n",
        "    print(f\"Failed to read image: {filename}\")\n",
        "\n",
        "print(\"Proses konversi selesai.\")\n"
      ],
      "metadata": {
        "colab": {
          "base_uri": "https://localhost:8080/"
        },
        "id": "z0TG5CyZI1Sf",
        "outputId": "7c20d1f4-82cb-40aa-d06b-11517b27a176"
      },
      "execution_count": null,
      "outputs": [
        {
          "output_type": "stream",
          "name": "stdout",
          "text": [
            "Gambar n00000003_000114.jpg berhasil diubah menjadi skala abu-abu dan disimpan sebagai n00000003_000114_grayscale.jpg\n",
            "Gambar n00000003_000110.jpg berhasil diubah menjadi skala abu-abu dan disimpan sebagai n00000003_000110_grayscale.jpg\n",
            "Gambar n00000003_000107.jpg berhasil diubah menjadi skala abu-abu dan disimpan sebagai n00000003_000107_grayscale.jpg\n",
            "Gambar n00000003_000136.jpg berhasil diubah menjadi skala abu-abu dan disimpan sebagai n00000003_000136_grayscale.jpg\n",
            "Gambar n00000003_000113.jpg berhasil diubah menjadi skala abu-abu dan disimpan sebagai n00000003_000113_grayscale.jpg\n",
            "Gambar n00000003_000124.jpg berhasil diubah menjadi skala abu-abu dan disimpan sebagai n00000003_000124_grayscale.jpg\n",
            "Gambar n00000003_000116.jpg berhasil diubah menjadi skala abu-abu dan disimpan sebagai n00000003_000116_grayscale.jpg\n",
            "Gambar n00000003_000118.jpg berhasil diubah menjadi skala abu-abu dan disimpan sebagai n00000003_000118_grayscale.jpg\n",
            "Gambar n00000003_000104.jpg berhasil diubah menjadi skala abu-abu dan disimpan sebagai n00000003_000104_grayscale.jpg\n",
            "Gambar n00000003_000142.jpg berhasil diubah menjadi skala abu-abu dan disimpan sebagai n00000003_000142_grayscale.jpg\n",
            "Gambar n00000003_000132.jpg berhasil diubah menjadi skala abu-abu dan disimpan sebagai n00000003_000132_grayscale.jpg\n",
            "Gambar n00000003_000108.jpg berhasil diubah menjadi skala abu-abu dan disimpan sebagai n00000003_000108_grayscale.jpg\n",
            "Gambar n00000003_000122.jpg berhasil diubah menjadi skala abu-abu dan disimpan sebagai n00000003_000122_grayscale.jpg\n",
            "Gambar n00000003_000130.jpg berhasil diubah menjadi skala abu-abu dan disimpan sebagai n00000003_000130_grayscale.jpg\n",
            "Gambar n00000003_000120.jpg berhasil diubah menjadi skala abu-abu dan disimpan sebagai n00000003_000120_grayscale.jpg\n",
            "Gambar n00000003_000119.jpg berhasil diubah menjadi skala abu-abu dan disimpan sebagai n00000003_000119_grayscale.jpg\n",
            "Proses konversi selesai.\n"
          ]
        }
      ]
    },
    {
      "cell_type": "code",
      "source": [
        "#inflamasi train\n",
        "folder_inflammation_path = '/content/gdrive/My Drive/TugasSBC1/resnet 50/periodontal_disease/val/inflammation/RGB'\n",
        "file_inflammation_list = os.listdir(folder_inflammation_path)\n",
        "for filename in file_inflammation_list:\n",
        "  full_inflammation_path = os.path.join(folder_inflammation_path, filename)\n",
        "\n",
        "  img = cv2.imread(full_inflammation_path)\n",
        "  if img is not None:\n",
        "    gray_inflammation_img = cv2.cvtColor(img, cv2.COLOR_BGR2GRAY)\n",
        "    name_without_extension = os.path.splitext(filename)[0]\n",
        "    file_extension = os.path.splitext(filename)[1]\n",
        "    save_path = os.path.join('/content/gdrive/My Drive/TugasSBC1/resnet 50/periodontal_disease/val/inflammation/GRAY', name_without_extension + '_grayscale' + file_extension)\n",
        "    cv2.imwrite(save_path, gray_normal_img)\n",
        "\n",
        "    print(f\"Gambar {filename} berhasil diubah menjadi skala abu-abu dan disimpan sebagai {name_without_extension}_grayscale.jpg\")\n",
        "  else:\n",
        "    print(f\"Failed to read image: {filename}\")\n",
        "\n",
        "print(\"Proses konversi selesai.\")"
      ],
      "metadata": {
        "colab": {
          "base_uri": "https://localhost:8080/"
        },
        "id": "3T2buHFUJCNa",
        "outputId": "9bc923d0-4585-40be-83c1-a36eb520d7e7"
      },
      "execution_count": null,
      "outputs": [
        {
          "output_type": "stream",
          "name": "stdout",
          "text": [
            "Gambar n00000003_000137.jpg berhasil diubah menjadi skala abu-abu dan disimpan sebagai n00000003_000137_grayscale.jpg\n",
            "Gambar n00000003_000126.jpg berhasil diubah menjadi skala abu-abu dan disimpan sebagai n00000003_000126_grayscale.jpg\n",
            "Gambar n00000003_000129.jpg berhasil diubah menjadi skala abu-abu dan disimpan sebagai n00000003_000129_grayscale.jpg\n",
            "Gambar n00000003_000134.jpg berhasil diubah menjadi skala abu-abu dan disimpan sebagai n00000003_000134_grayscale.jpg\n",
            "Gambar n00000003_000133.jpg berhasil diubah menjadi skala abu-abu dan disimpan sebagai n00000003_000133_grayscale.jpg\n",
            "Gambar n00000003_000135.jpg berhasil diubah menjadi skala abu-abu dan disimpan sebagai n00000003_000135_grayscale.jpg\n",
            "Gambar n00000003_000125.jpg berhasil diubah menjadi skala abu-abu dan disimpan sebagai n00000003_000125_grayscale.jpg\n",
            "Gambar n00000003_000127.jpg berhasil diubah menjadi skala abu-abu dan disimpan sebagai n00000003_000127_grayscale.jpg\n",
            "Gambar n00000003_000131.jpg berhasil diubah menjadi skala abu-abu dan disimpan sebagai n00000003_000131_grayscale.jpg\n",
            "Gambar n00000003_000128.jpg berhasil diubah menjadi skala abu-abu dan disimpan sebagai n00000003_000128_grayscale.jpg\n",
            "Gambar n00000003_000152.jpg berhasil diubah menjadi skala abu-abu dan disimpan sebagai n00000003_000152_grayscale.jpg\n",
            "Gambar n00000003_000151.jpg berhasil diubah menjadi skala abu-abu dan disimpan sebagai n00000003_000151_grayscale.jpg\n",
            "Gambar n00000003_000138.jpg berhasil diubah menjadi skala abu-abu dan disimpan sebagai n00000003_000138_grayscale.jpg\n",
            "Gambar n00000003_000150.jpg berhasil diubah menjadi skala abu-abu dan disimpan sebagai n00000003_000150_grayscale.jpg\n",
            "Gambar n00000003_000141.jpg berhasil diubah menjadi skala abu-abu dan disimpan sebagai n00000003_000141_grayscale.jpg\n",
            "Gambar n00000003_000160.jpg berhasil diubah menjadi skala abu-abu dan disimpan sebagai n00000003_000160_grayscale.jpg\n",
            "Gambar n00000003_000158.jpg berhasil diubah menjadi skala abu-abu dan disimpan sebagai n00000003_000158_grayscale.jpg\n",
            "Gambar n00000003_000147.jpg berhasil diubah menjadi skala abu-abu dan disimpan sebagai n00000003_000147_grayscale.jpg\n",
            "Gambar n00000003_000146.jpg berhasil diubah menjadi skala abu-abu dan disimpan sebagai n00000003_000146_grayscale.jpg\n",
            "Gambar n00000003_000156.jpg berhasil diubah menjadi skala abu-abu dan disimpan sebagai n00000003_000156_grayscale.jpg\n",
            "Gambar n00000003_000148.jpg berhasil diubah menjadi skala abu-abu dan disimpan sebagai n00000003_000148_grayscale.jpg\n",
            "Gambar n00000003_000140.jpg berhasil diubah menjadi skala abu-abu dan disimpan sebagai n00000003_000140_grayscale.jpg\n",
            "Gambar n00000003_000154.jpg berhasil diubah menjadi skala abu-abu dan disimpan sebagai n00000003_000154_grayscale.jpg\n",
            "Gambar n00000003_000139.jpg berhasil diubah menjadi skala abu-abu dan disimpan sebagai n00000003_000139_grayscale.jpg\n",
            "Gambar n00000003_000159.jpg berhasil diubah menjadi skala abu-abu dan disimpan sebagai n00000003_000159_grayscale.jpg\n",
            "Gambar n00000003_000155.jpg berhasil diubah menjadi skala abu-abu dan disimpan sebagai n00000003_000155_grayscale.jpg\n",
            "Gambar n00000003_000144.jpg berhasil diubah menjadi skala abu-abu dan disimpan sebagai n00000003_000144_grayscale.jpg\n",
            "Gambar n00000003_000153.jpg berhasil diubah menjadi skala abu-abu dan disimpan sebagai n00000003_000153_grayscale.jpg\n",
            "Proses konversi selesai.\n"
          ]
        }
      ]
    },
    {
      "cell_type": "code",
      "execution_count": null,
      "metadata": {
        "id": "24_OPpvs4l9t"
      },
      "outputs": [],
      "source": [
        "import os\n",
        "import cv2\n",
        "from imblearn.over_sampling import SMOTE\n",
        "import numpy as np\n",
        "\n",
        "# Define path to the main dataset folder\n",
        "dataset_folder = '/content/gdrive/My Drive/TugasSBC1/resnet 50/periodontal_disease/train'\n",
        "\n",
        "# Define classes\n",
        "classes = ['normal', 'inflammation']\n",
        "\n",
        "# Initialize empty lists to store features and labels\n",
        "X_train = []\n",
        "y_train = []\n",
        "\n",
        "# Define desired width and height for resizing images\n",
        "desired_width = 100\n",
        "desired_height = 100\n",
        "\n",
        "# Loop through each class\n",
        "for class_name in classes:\n",
        "    # Define path to class folder\n",
        "    class_folder = os.path.join(dataset_folder, class_name)\n",
        "\n",
        "    # Loop through each subfolder (RGB and GRAY)\n",
        "    for subfolder in ['GRAY']:\n",
        "        subfolder_path = os.path.join(class_folder, subfolder)\n",
        "\n",
        "        # Loop through each file in subfolder\n",
        "        for filename in os.listdir(subfolder_path):\n",
        "            # Read image (or load data)\n",
        "            img_path = os.path.join(subfolder_path, filename)\n",
        "            img = cv2.imread(img_path)  # Assuming it's an image\n",
        "\n",
        "            # Resize image to desired dimensions\n",
        "            img = cv2.resize(img, (desired_width, desired_height))\n",
        "\n",
        "            # Append image and label to X_train and y_train lists\n",
        "            X_train.append(img)\n",
        "            y_train.append(class_name)\n",
        "\n",
        "# Convert lists to numpy arrays\n",
        "X_train = np.array(X_train)\n",
        "y_train = np.array(y_train)\n",
        "\n",
        "# Perform oversampling using SMOTE\n",
        "smote = SMOTE()\n",
        "X_train_resampled, y_train_resampled = smote.fit_resample(X_train.reshape(X_train.shape[0], -1), y_train)\n",
        "\n",
        "# Now, X_train_resampled and y_train_resampled contain the oversampled data\n"
      ]
    },
    {
      "cell_type": "code",
      "execution_count": null,
      "metadata": {
        "colab": {
          "base_uri": "https://localhost:8080/"
        },
        "id": "0HR22bg1vggT",
        "outputId": "aaa7388a-3fb3-477e-84bd-e741da8121bc"
      },
      "outputs": [
        {
          "name": "stdout",
          "output_type": "stream",
          "text": [
            "Mounted at /content/drive\n",
            "Oversampled data saved to Google Drive.\n"
          ]
        }
      ],
      "source": [
        "import pickle\n",
        "from google.colab import drive\n",
        "\n",
        "# Mount Google Drive\n",
        "drive.mount('/content/drive')\n",
        "\n",
        "# Define the path to the directory where you want to save the file\n",
        "save_dir = '/content/drive/My Drive/TugasSBC1/resnet 50/periodontal_disease/train/'\n",
        "\n",
        "# Make sure the directory exists, if not create it\n",
        "if not os.path.exists(save_dir):\n",
        "    os.makedirs(save_dir)\n",
        "\n",
        "# Define the filename\n",
        "save_filename = 'oversampled_data.pkl'\n",
        "\n",
        "# Combine the directory path and filename\n",
        "save_path = os.path.join(save_dir, save_filename)\n",
        "\n",
        "# Save oversampled data using pickle\n",
        "with open(save_path, 'wb') as f:\n",
        "    pickle.dump((X_train_resampled, y_train_resampled), f)\n",
        "\n",
        "print(\"Oversampled data saved to Google Drive.\")\n",
        "import pickle\n",
        "\n",
        "# Load oversampled data from the file\n",
        "with open('/content/drive/My Drive/TugasSBC1/resnet 50/periodontal_disease/train/oversampled_data.pkl', 'rb') as f:\n",
        "    X_train_resampled, y_train_resampled = pickle.load(f)\n",
        "\n",
        "# Now you can use X_train_resampled and y_train_resampled for further analysis or modeling\n",
        "drive.mount(\"/content/drive\", force_remount=True)\n"
      ]
    },
    {
      "cell_type": "code",
      "execution_count": null,
      "metadata": {
        "colab": {
          "background_save": true,
          "base_uri": "https://localhost:8080/",
          "height": 211
        },
        "id": "vd5Ee54Wu_6h",
        "outputId": "7d16da57-350e-4feb-ac11-46e83b93723d"
      },
      "outputs": [
        {
          "name": "stderr",
          "output_type": "stream",
          "text": [
            "ERROR:root:Internal Python error in the inspect module.\n",
            "Below is the traceback from this internal error.\n",
            "\n",
            "ERROR:root:Internal Python error in the inspect module.\n",
            "Below is the traceback from this internal error.\n",
            "\n",
            "ERROR:root:Internal Python error in the inspect module.\n",
            "Below is the traceback from this internal error.\n",
            "\n"
          ]
        },
        {
          "name": "stdout",
          "output_type": "stream",
          "text": [
            "Traceback (most recent call last):\n",
            "  File \"/usr/local/lib/python3.10/dist-packages/IPython/core/interactiveshell.py\", line 3553, in run_code\n",
            "    exec(code_obj, self.user_global_ns, self.user_ns)\n",
            "  File \"<ipython-input-19-2c5d4cd50524>\", line 7, in <cell line: 7>\n",
            "    pca.fit(X_train)\n",
            "  File \"/usr/local/lib/python3.10/dist-packages/sklearn/decomposition/_pca.py\", line 435, in fit\n",
            "    self._fit(X)\n",
            "  File \"/usr/local/lib/python3.10/dist-packages/sklearn/decomposition/_pca.py\", line 485, in _fit\n",
            "    X = self._validate_data(\n",
            "  File \"/usr/local/lib/python3.10/dist-packages/sklearn/base.py\", line 565, in _validate_data\n",
            "    X = check_array(X, input_name=\"X\", **check_params)\n",
            "  File \"/usr/local/lib/python3.10/dist-packages/sklearn/utils/validation.py\", line 915, in check_array\n",
            "    raise ValueError(\n",
            "ValueError: Found array with dim 4. PCA expected <= 2.\n",
            "\n",
            "During handling of the above exception, another exception occurred:\n",
            "\n",
            "Traceback (most recent call last):\n",
            "  File \"/usr/local/lib/python3.10/dist-packages/IPython/core/interactiveshell.py\", line 2099, in showtraceback\n",
            "    stb = value._render_traceback_()\n",
            "AttributeError: 'ValueError' object has no attribute '_render_traceback_'\n",
            "\n",
            "During handling of the above exception, another exception occurred:\n",
            "\n",
            "Traceback (most recent call last):\n",
            "  File \"/usr/local/lib/python3.10/dist-packages/IPython/core/ultratb.py\", line 1101, in get_records\n",
            "    return _fixed_getinnerframes(etb, number_of_lines_of_context, tb_offset)\n",
            "  File \"/usr/local/lib/python3.10/dist-packages/IPython/core/ultratb.py\", line 248, in wrapped\n",
            "    return f(*args, **kwargs)\n",
            "  File \"/usr/local/lib/python3.10/dist-packages/IPython/core/ultratb.py\", line 281, in _fixed_getinnerframes\n",
            "    records = fix_frame_records_filenames(inspect.getinnerframes(etb, context))\n",
            "  File \"/usr/lib/python3.10/inspect.py\", line 1662, in getinnerframes\n",
            "    frameinfo = (tb.tb_frame,) + getframeinfo(tb, context)\n",
            "  File \"/usr/lib/python3.10/inspect.py\", line 1620, in getframeinfo\n",
            "    filename = getsourcefile(frame) or getfile(frame)\n",
            "  File \"/usr/lib/python3.10/inspect.py\", line 829, in getsourcefile\n",
            "    module = getmodule(object, filename)\n",
            "  File \"/usr/lib/python3.10/inspect.py\", line 861, in getmodule\n",
            "    file = getabsfile(object, _filename)\n",
            "  File \"/usr/lib/python3.10/inspect.py\", line 845, in getabsfile\n",
            "    return os.path.normcase(os.path.abspath(_filename))\n",
            "  File \"/usr/lib/python3.10/posixpath.py\", line 384, in abspath\n",
            "    cwd = os.getcwd()\n",
            "OSError: [Errno 107] Transport endpoint is not connected\n",
            "Traceback (most recent call last):\n",
            "  File \"/usr/local/lib/python3.10/dist-packages/IPython/core/interactiveshell.py\", line 3553, in run_code\n",
            "    exec(code_obj, self.user_global_ns, self.user_ns)\n",
            "  File \"<ipython-input-19-2c5d4cd50524>\", line 7, in <cell line: 7>\n",
            "    pca.fit(X_train)\n",
            "  File \"/usr/local/lib/python3.10/dist-packages/sklearn/decomposition/_pca.py\", line 435, in fit\n",
            "    self._fit(X)\n",
            "  File \"/usr/local/lib/python3.10/dist-packages/sklearn/decomposition/_pca.py\", line 485, in _fit\n",
            "    X = self._validate_data(\n",
            "  File \"/usr/local/lib/python3.10/dist-packages/sklearn/base.py\", line 565, in _validate_data\n",
            "    X = check_array(X, input_name=\"X\", **check_params)\n",
            "  File \"/usr/local/lib/python3.10/dist-packages/sklearn/utils/validation.py\", line 915, in check_array\n",
            "    raise ValueError(\n",
            "ValueError: Found array with dim 4. PCA expected <= 2.\n",
            "\n",
            "During handling of the above exception, another exception occurred:\n",
            "\n",
            "Traceback (most recent call last):\n",
            "  File \"/usr/local/lib/python3.10/dist-packages/IPython/core/interactiveshell.py\", line 2099, in showtraceback\n",
            "    stb = value._render_traceback_()\n",
            "AttributeError: 'ValueError' object has no attribute '_render_traceback_'\n",
            "\n",
            "During handling of the above exception, another exception occurred:\n",
            "\n",
            "Traceback (most recent call last):\n",
            "  File \"/usr/local/lib/python3.10/dist-packages/IPython/core/interactiveshell.py\", line 3473, in run_ast_nodes\n",
            "    if (await self.run_code(code, result,  async_=asy)):\n",
            "  File \"/usr/local/lib/python3.10/dist-packages/IPython/core/interactiveshell.py\", line 3575, in run_code\n",
            "    self.showtraceback(running_compiled_code=True)\n",
            "  File \"/usr/local/lib/python3.10/dist-packages/IPython/core/interactiveshell.py\", line 2101, in showtraceback\n",
            "    stb = self.InteractiveTB.structured_traceback(etype,\n",
            "  File \"/usr/local/lib/python3.10/dist-packages/IPython/core/ultratb.py\", line 1367, in structured_traceback\n",
            "    return FormattedTB.structured_traceback(\n",
            "  File \"/usr/local/lib/python3.10/dist-packages/IPython/core/ultratb.py\", line 1267, in structured_traceback\n",
            "    return VerboseTB.structured_traceback(\n",
            "  File \"/usr/local/lib/python3.10/dist-packages/IPython/core/ultratb.py\", line 1124, in structured_traceback\n",
            "    formatted_exception = self.format_exception_as_a_whole(etype, evalue, etb, number_of_lines_of_context,\n",
            "  File \"/usr/local/lib/python3.10/dist-packages/IPython/core/ultratb.py\", line 1082, in format_exception_as_a_whole\n",
            "    last_unique, recursion_repeat = find_recursion(orig_etype, evalue, records)\n",
            "  File \"/usr/local/lib/python3.10/dist-packages/IPython/core/ultratb.py\", line 382, in find_recursion\n",
            "    return len(records), 0\n",
            "TypeError: object of type 'NoneType' has no len()\n",
            "\n",
            "During handling of the above exception, another exception occurred:\n",
            "\n",
            "Traceback (most recent call last):\n",
            "  File \"/usr/local/lib/python3.10/dist-packages/IPython/core/interactiveshell.py\", line 2099, in showtraceback\n",
            "    stb = value._render_traceback_()\n",
            "AttributeError: 'TypeError' object has no attribute '_render_traceback_'\n",
            "\n",
            "During handling of the above exception, another exception occurred:\n",
            "\n",
            "Traceback (most recent call last):\n",
            "  File \"/usr/local/lib/python3.10/dist-packages/IPython/core/ultratb.py\", line 1101, in get_records\n",
            "    return _fixed_getinnerframes(etb, number_of_lines_of_context, tb_offset)\n",
            "  File \"/usr/local/lib/python3.10/dist-packages/IPython/core/ultratb.py\", line 248, in wrapped\n",
            "    return f(*args, **kwargs)\n",
            "  File \"/usr/local/lib/python3.10/dist-packages/IPython/core/ultratb.py\", line 281, in _fixed_getinnerframes\n",
            "    records = fix_frame_records_filenames(inspect.getinnerframes(etb, context))\n",
            "  File \"/usr/lib/python3.10/inspect.py\", line 1662, in getinnerframes\n",
            "    frameinfo = (tb.tb_frame,) + getframeinfo(tb, context)\n",
            "  File \"/usr/lib/python3.10/inspect.py\", line 1620, in getframeinfo\n",
            "    filename = getsourcefile(frame) or getfile(frame)\n",
            "  File \"/usr/lib/python3.10/inspect.py\", line 829, in getsourcefile\n",
            "    module = getmodule(object, filename)\n",
            "  File \"/usr/lib/python3.10/inspect.py\", line 861, in getmodule\n",
            "    file = getabsfile(object, _filename)\n",
            "  File \"/usr/lib/python3.10/inspect.py\", line 845, in getabsfile\n",
            "    return os.path.normcase(os.path.abspath(_filename))\n",
            "  File \"/usr/lib/python3.10/posixpath.py\", line 384, in abspath\n",
            "    cwd = os.getcwd()\n",
            "OSError: [Errno 107] Transport endpoint is not connected\n",
            "Traceback (most recent call last):\n",
            "  File \"/usr/local/lib/python3.10/dist-packages/IPython/core/interactiveshell.py\", line 3553, in run_code\n",
            "    exec(code_obj, self.user_global_ns, self.user_ns)\n",
            "  File \"<ipython-input-19-2c5d4cd50524>\", line 7, in <cell line: 7>\n",
            "    pca.fit(X_train)\n",
            "  File \"/usr/local/lib/python3.10/dist-packages/sklearn/decomposition/_pca.py\", line 435, in fit\n",
            "    self._fit(X)\n",
            "  File \"/usr/local/lib/python3.10/dist-packages/sklearn/decomposition/_pca.py\", line 485, in _fit\n",
            "    X = self._validate_data(\n",
            "  File \"/usr/local/lib/python3.10/dist-packages/sklearn/base.py\", line 565, in _validate_data\n",
            "    X = check_array(X, input_name=\"X\", **check_params)\n",
            "  File \"/usr/local/lib/python3.10/dist-packages/sklearn/utils/validation.py\", line 915, in check_array\n",
            "    raise ValueError(\n",
            "ValueError: Found array with dim 4. PCA expected <= 2.\n",
            "\n",
            "During handling of the above exception, another exception occurred:\n",
            "\n",
            "Traceback (most recent call last):\n",
            "  File \"/usr/local/lib/python3.10/dist-packages/IPython/core/interactiveshell.py\", line 2099, in showtraceback\n",
            "    stb = value._render_traceback_()\n",
            "AttributeError: 'ValueError' object has no attribute '_render_traceback_'\n",
            "\n",
            "During handling of the above exception, another exception occurred:\n",
            "\n",
            "Traceback (most recent call last):\n",
            "  File \"/usr/local/lib/python3.10/dist-packages/IPython/core/interactiveshell.py\", line 3473, in run_ast_nodes\n",
            "    if (await self.run_code(code, result,  async_=asy)):\n",
            "  File \"/usr/local/lib/python3.10/dist-packages/IPython/core/interactiveshell.py\", line 3575, in run_code\n",
            "    self.showtraceback(running_compiled_code=True)\n",
            "  File \"/usr/local/lib/python3.10/dist-packages/IPython/core/interactiveshell.py\", line 2101, in showtraceback\n",
            "    stb = self.InteractiveTB.structured_traceback(etype,\n",
            "  File \"/usr/local/lib/python3.10/dist-packages/IPython/core/ultratb.py\", line 1367, in structured_traceback\n",
            "    return FormattedTB.structured_traceback(\n",
            "  File \"/usr/local/lib/python3.10/dist-packages/IPython/core/ultratb.py\", line 1267, in structured_traceback\n",
            "    return VerboseTB.structured_traceback(\n",
            "  File \"/usr/local/lib/python3.10/dist-packages/IPython/core/ultratb.py\", line 1124, in structured_traceback\n",
            "    formatted_exception = self.format_exception_as_a_whole(etype, evalue, etb, number_of_lines_of_context,\n",
            "  File \"/usr/local/lib/python3.10/dist-packages/IPython/core/ultratb.py\", line 1082, in format_exception_as_a_whole\n",
            "    last_unique, recursion_repeat = find_recursion(orig_etype, evalue, records)\n",
            "  File \"/usr/local/lib/python3.10/dist-packages/IPython/core/ultratb.py\", line 382, in find_recursion\n",
            "    return len(records), 0\n",
            "TypeError: object of type 'NoneType' has no len()\n",
            "\n",
            "During handling of the above exception, another exception occurred:\n",
            "\n",
            "Traceback (most recent call last):\n",
            "  File \"/usr/local/lib/python3.10/dist-packages/IPython/core/interactiveshell.py\", line 2099, in showtraceback\n",
            "    stb = value._render_traceback_()\n",
            "AttributeError: 'TypeError' object has no attribute '_render_traceback_'\n",
            "\n",
            "During handling of the above exception, another exception occurred:\n",
            "\n",
            "Traceback (most recent call last):\n",
            "  File \"/usr/local/lib/python3.10/dist-packages/IPython/core/interactiveshell.py\", line 3030, in _run_cell\n",
            "    return runner(coro)\n",
            "  File \"/usr/local/lib/python3.10/dist-packages/IPython/core/async_helpers.py\", line 78, in _pseudo_sync_runner\n",
            "    coro.send(None)\n",
            "  File \"/usr/local/lib/python3.10/dist-packages/IPython/core/interactiveshell.py\", line 3257, in run_cell_async\n",
            "    has_raised = await self.run_ast_nodes(code_ast.body, cell_name,\n",
            "  File \"/usr/local/lib/python3.10/dist-packages/IPython/core/interactiveshell.py\", line 3492, in run_ast_nodes\n",
            "    self.showtraceback()\n",
            "  File \"/usr/local/lib/python3.10/dist-packages/IPython/core/interactiveshell.py\", line 2101, in showtraceback\n",
            "    stb = self.InteractiveTB.structured_traceback(etype,\n",
            "  File \"/usr/local/lib/python3.10/dist-packages/IPython/core/ultratb.py\", line 1367, in structured_traceback\n",
            "    return FormattedTB.structured_traceback(\n",
            "  File \"/usr/local/lib/python3.10/dist-packages/IPython/core/ultratb.py\", line 1267, in structured_traceback\n",
            "    return VerboseTB.structured_traceback(\n",
            "  File \"/usr/local/lib/python3.10/dist-packages/IPython/core/ultratb.py\", line 1142, in structured_traceback\n",
            "    formatted_exceptions += self.format_exception_as_a_whole(etype, evalue, etb, lines_of_context,\n",
            "  File \"/usr/local/lib/python3.10/dist-packages/IPython/core/ultratb.py\", line 1082, in format_exception_as_a_whole\n",
            "    last_unique, recursion_repeat = find_recursion(orig_etype, evalue, records)\n",
            "  File \"/usr/local/lib/python3.10/dist-packages/IPython/core/ultratb.py\", line 382, in find_recursion\n",
            "    return len(records), 0\n",
            "TypeError: object of type 'NoneType' has no len()\n",
            "\n",
            "During handling of the above exception, another exception occurred:\n",
            "\n",
            "Traceback (most recent call last):\n",
            "  File \"/usr/local/lib/python3.10/dist-packages/IPython/core/interactiveshell.py\", line 2099, in showtraceback\n",
            "    stb = value._render_traceback_()\n",
            "AttributeError: 'TypeError' object has no attribute '_render_traceback_'\n",
            "\n",
            "During handling of the above exception, another exception occurred:\n",
            "\n",
            "Traceback (most recent call last):\n",
            "  File \"/usr/local/lib/python3.10/dist-packages/IPython/core/ultratb.py\", line 1101, in get_records\n",
            "    return _fixed_getinnerframes(etb, number_of_lines_of_context, tb_offset)\n",
            "  File \"/usr/local/lib/python3.10/dist-packages/IPython/core/ultratb.py\", line 248, in wrapped\n",
            "    return f(*args, **kwargs)\n",
            "  File \"/usr/local/lib/python3.10/dist-packages/IPython/core/ultratb.py\", line 281, in _fixed_getinnerframes\n",
            "    records = fix_frame_records_filenames(inspect.getinnerframes(etb, context))\n",
            "  File \"/usr/lib/python3.10/inspect.py\", line 1662, in getinnerframes\n",
            "    frameinfo = (tb.tb_frame,) + getframeinfo(tb, context)\n",
            "  File \"/usr/lib/python3.10/inspect.py\", line 1620, in getframeinfo\n",
            "    filename = getsourcefile(frame) or getfile(frame)\n",
            "  File \"/usr/lib/python3.10/inspect.py\", line 829, in getsourcefile\n",
            "    module = getmodule(object, filename)\n",
            "  File \"/usr/lib/python3.10/inspect.py\", line 861, in getmodule\n",
            "    file = getabsfile(object, _filename)\n",
            "  File \"/usr/lib/python3.10/inspect.py\", line 845, in getabsfile\n",
            "    return os.path.normcase(os.path.abspath(_filename))\n",
            "  File \"/usr/lib/python3.10/posixpath.py\", line 384, in abspath\n",
            "    cwd = os.getcwd()\n",
            "OSError: [Errno 107] Transport endpoint is not connected\n"
          ]
        }
      ],
      "source": [
        "from sklearn.decomposition import PCA\n",
        "\n",
        "# Define PCA with desired number of components\n",
        "pca = PCA(n_components=2)\n",
        "\n",
        "# Fit PCA on original data\n",
        "pca.fit(X_train)\n",
        "\n",
        "# Reshape X_train to 2D array if necessary\n",
        "X_train_reshaped = X_train.reshape(X_train.shape[0], -1)\n",
        "\n",
        "# Apply PCA with desired number of components\n",
        "pca = PCA(n_components=2)\n",
        "\n",
        "# Fit PCA on original data\n",
        "pca.fit(X_train_reshaped)\n",
        "\n",
        "# Transform original data to PCA space\n",
        "X_train_pca = pca.transform(X_train_reshaped)\n"
      ]
    }
  ],
  "metadata": {
    "colab": {
      "provenance": []
    },
    "kernelspec": {
      "display_name": "Python 3",
      "name": "python3"
    },
    "language_info": {
      "name": "python"
    }
  },
  "nbformat": 4,
  "nbformat_minor": 0
}